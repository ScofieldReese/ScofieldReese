{
  "nbformat": 4,
  "nbformat_minor": 0,
  "metadata": {
    "colab": {
      "name": "Breast_cancer.ipynb",
      "provenance": [],
      "collapsed_sections": [],
      "mount_file_id": "1kLkDk4zOCtNQx1ctNIl-ZOiCWBJFGxE2",
      "authorship_tag": "ABX9TyMq81I1twZC990JVfkGAf8C",
      "include_colab_link": true
    },
    "kernelspec": {
      "name": "python3",
      "display_name": "Python 3"
    },
    "language_info": {
      "name": "python"
    }
  },
  "cells": [
    {
      "cell_type": "markdown",
      "metadata": {
        "id": "view-in-github",
        "colab_type": "text"
      },
      "source": [
        "<a href=\"https://colab.research.google.com/github/VMohanraj27/ScofieldReese/blob/main/Breast_cancer.ipynb\" target=\"_parent\"><img src=\"https://colab.research.google.com/assets/colab-badge.svg\" alt=\"Open In Colab\"/></a>"
      ]
    },
    {
      "cell_type": "code",
      "execution_count": 1,
      "metadata": {
        "id": "5tiiJS1WorgO"
      },
      "outputs": [],
      "source": [
        "import pandas as pd\n",
        "import numpy  as np\n",
        "import matplotlib.pyplot as plt\n",
        "import seaborn as sns"
      ]
    },
    {
      "cell_type": "code",
      "source": [
        "import tensorflow as tf\n",
        "from tensorflow import keras"
      ],
      "metadata": {
        "id": "DqX2sy_Ao_ST"
      },
      "execution_count": 2,
      "outputs": []
    },
    {
      "cell_type": "code",
      "source": [
        "from keras.preprocessing.image import ImageDataGenerator"
      ],
      "metadata": {
        "id": "abBAf3dEpD8p"
      },
      "execution_count": 3,
      "outputs": []
    },
    {
      "cell_type": "code",
      "source": [
        "train_datagen = ImageDataGenerator(rescale=1/255,\n",
        "                                   horizontal_flip=True,\n",
        "                                   height_shift_range=0.3,\n",
        "                                   width_shift_range=0.3,\n",
        "                                   shear_range=0.2)"
      ],
      "metadata": {
        "id": "S5Z_xaVXpMWw"
      },
      "execution_count": 74,
      "outputs": []
    },
    {
      "cell_type": "code",
      "source": [
        "train_generator = train_datagen.flow_from_directory(\"/content/drive/MyDrive/Breast Cancer Patients MRI's/train\",\n",
        "                                                    target_size=(32,32),\n",
        "                                                    class_mode='binary',\n",
        "                                                    batch_size=32)"
      ],
      "metadata": {
        "colab": {
          "base_uri": "https://localhost:8080/"
        },
        "id": "woCLVVI1pVAO",
        "outputId": "9ba25b77-4183-410f-fc6b-5b84673a70d3"
      },
      "execution_count": 75,
      "outputs": [
        {
          "output_type": "stream",
          "name": "stdout",
          "text": [
            "Found 1078 images belonging to 2 classes.\n"
          ]
        }
      ]
    },
    {
      "cell_type": "code",
      "source": [
        "valid_datagen = ImageDataGenerator(rescale=1/255)"
      ],
      "metadata": {
        "id": "0lgHKq4WpsUD"
      },
      "execution_count": 76,
      "outputs": []
    },
    {
      "cell_type": "code",
      "source": [
        "valid_generator = valid_datagen.flow_from_directory(\"/content/drive/MyDrive/Breast Cancer Patients MRI's/validation\",\n",
        "                                                    target_size=(32,32),\n",
        "                                                    class_mode='binary',\n",
        "                                                    batch_size=32)"
      ],
      "metadata": {
        "colab": {
          "base_uri": "https://localhost:8080/"
        },
        "id": "_Tvxgoqop05M",
        "outputId": "f635f4b2-6e43-44b7-b092-8d4f5281147c"
      },
      "execution_count": 77,
      "outputs": [
        {
          "output_type": "stream",
          "name": "stdout",
          "text": [
            "Found 402 images belonging to 2 classes.\n"
          ]
        }
      ]
    },
    {
      "cell_type": "code",
      "source": [
        "imgs,labels = next(train_generator)\n",
        "num_classes = len(train_generator.class_indices)"
      ],
      "metadata": {
        "id": "rDKeViv_qKD5"
      },
      "execution_count": 78,
      "outputs": []
    },
    {
      "cell_type": "code",
      "source": [
        "def plot_images(images_arr):\n",
        "  fig,axes = plt.subplots(1,12,figsize=(32,32))\n",
        "  for img,ax in zip(images_arr,axes):\n",
        "    ax.imshow(img)\n",
        "    ax.axis('off')\n",
        "  plt.tight_layout()\n",
        "  plt.show()"
      ],
      "metadata": {
        "id": "AjK58H8kq7qn"
      },
      "execution_count": 79,
      "outputs": []
    },
    {
      "cell_type": "code",
      "source": [
        "plot_images(imgs)\n",
        "print(labels)"
      ],
      "metadata": {
        "colab": {
          "base_uri": "https://localhost:8080/",
          "height": 131
        },
        "id": "Boxe7y7Jrifl",
        "outputId": "9471b169-ec22-4eec-a157-8e1149f10420"
      },
      "execution_count": 80,
      "outputs": [
        {
          "output_type": "display_data",
          "data": {
            "text/plain": [
              "<Figure size 2304x2304 with 12 Axes>"
            ],
            "image/png": "[encoded data removed]"
          },
          "metadata": {
            "needs_background": "light"
          }
        },
        {
          "output_type": "stream",
          "name": "stdout",
          "text": [
            "[0. 0. 1. 1. 1. 1. 1. 0. 1. 0. 0. 1. 1. 1. 0. 1. 1. 0. 1. 0. 1. 1. 0. 0.\n",
            " 1. 0. 0. 0. 1. 1. 1. 1.]\n"
          ]
        }
      ]
    },
    {
      "cell_type": "code",
      "source": [
        "from keras.layers import Dense\n",
        "from keras.layers import Conv2D\n",
        "from keras.layers import MaxPooling2D\n",
        "from keras.layers import Flatten\n",
        "from keras.layers import BatchNormalization\n",
        "from keras.layers import Dropout\n",
        "from keras.models import Sequential"
      ],
      "metadata": {
        "id": "iTgpkIbLrogX"
      },
      "execution_count": 81,
      "outputs": []
    },
    {
      "cell_type": "code",
      "source": [
        "model = Sequential()"
      ],
      "metadata": {
        "id": "NWC9_AjWsMJz"
      },
      "execution_count": 103,
      "outputs": []
    },
    {
      "cell_type": "code",
      "source": [
        "model.add(Conv2D(filters=32, kernel_size=3,  activation='relu', input_shape=[32,32,3]))\n",
        "model.add(MaxPooling2D(pool_size=2, strides=2))\n",
        "model.add(BatchNormalization())"
      ],
      "metadata": {
        "id": "A9DRV-lrsOyh"
      },
      "execution_count": 104,
      "outputs": []
    },
    {
      "cell_type": "code",
      "source": [
        "model.add(Conv2D(filters=32, kernel_size=3, activation='relu'))\n",
        "model.add(MaxPooling2D(pool_size=2, strides=2))\n",
        "model.add(BatchNormalization())"
      ],
      "metadata": {
        "id": "TDtxwLRutIcC"
      },
      "execution_count": 105,
      "outputs": []
    },
    {
      "cell_type": "code",
      "source": [
        "model.add(Flatten())"
      ],
      "metadata": {
        "id": "WlZ6CGrgtkPR"
      },
      "execution_count": 106,
      "outputs": []
    },
    {
      "cell_type": "code",
      "source": [
        "model.add(Dense(units=1024, activation='relu'))\n",
        "model.add(Dense(units=1024, activation='relu'))\n",
        "model.add(Dense(units=1024, activation='relu'))\n",
        "model.add(Dense(units=1024, activation='relu'))\n",
        "model.add(Dense(units=1024, activation='relu'))\n",
        "model.add(Dense(1, activation='sigmoid'))"
      ],
      "metadata": {
        "id": "KoPpOjpDtzmX"
      },
      "execution_count": 112,
      "outputs": []
    },
    {
      "cell_type": "code",
      "source": [
        "model.compile(optimizer='adam', \n",
        "              loss='binary_crossentropy', \n",
        "              metrics=['Accuracy'])"
      ],
      "metadata": {
        "id": "wnIOxWV6uGJz"
      },
      "execution_count": 113,
      "outputs": []
    },
    {
      "cell_type": "code",
      "source": [
        "model.summary()"
      ],
      "metadata": {
        "colab": {
          "base_uri": "https://localhost:8080/"
        },
        "id": "qs2s4cCMvwPA",
        "outputId": "10c0defa-6696-4e05-c179-783f0f9bd140"
      },
      "execution_count": 114,
      "outputs": [
        {
          "output_type": "stream",
          "name": "stdout",
          "text": [
            "Model: \"sequential_8\"\n",
            "_________________________________________________________________\n",
            " Layer (type)                Output Shape              Param #   \n",
            "=================================================================\n",
            " conv2d_18 (Conv2D)          (None, 30, 30, 32)        896       \n",
            "                                                                 \n",
            " max_pooling2d_15 (MaxPoolin  (None, 15, 15, 32)       0         \n",
            " g2D)                                                            \n",
            "                                                                 \n",
            " batch_normalization_15 (Bat  (None, 15, 15, 32)       128       \n",
            " chNormalization)                                                \n",
            "                                                                 \n",
            " conv2d_19 (Conv2D)          (None, 13, 13, 32)        9248      \n",
            "                                                                 \n",
            " max_pooling2d_16 (MaxPoolin  (None, 6, 6, 32)         0         \n",
            " g2D)                                                            \n",
            "                                                                 \n",
            " batch_normalization_16 (Bat  (None, 6, 6, 32)         128       \n",
            " chNormalization)                                                \n",
            "                                                                 \n",
            " flatten_9 (Flatten)         (None, 1152)              0         \n",
            "                                                                 \n",
            " dense_31 (Dense)            (None, 1024)              1180672   \n",
            "                                                                 \n",
            " dense_32 (Dense)            (None, 1024)              1049600   \n",
            "                                                                 \n",
            " dense_33 (Dense)            (None, 1024)              1049600   \n",
            "                                                                 \n",
            " dense_34 (Dense)            (None, 1024)              1049600   \n",
            "                                                                 \n",
            " dense_35 (Dense)            (None, 1)                 1025      \n",
            "                                                                 \n",
            " dense_36 (Dense)            (None, 1024)              2048      \n",
            "                                                                 \n",
            " dense_37 (Dense)            (None, 1024)              1049600   \n",
            "                                                                 \n",
            " dense_38 (Dense)            (None, 1024)              1049600   \n",
            "                                                                 \n",
            " dense_39 (Dense)            (None, 1024)              1049600   \n",
            "                                                                 \n",
            " dense_40 (Dense)            (None, 1024)              1049600   \n",
            "                                                                 \n",
            " dense_41 (Dense)            (None, 1)                 1025      \n",
            "                                                                 \n",
            "=================================================================\n",
            "Total params: 8,542,370\n",
            "Trainable params: 8,542,242\n",
            "Non-trainable params: 128\n",
            "_________________________________________________________________\n"
          ]
        }
      ]
    },
    {
      "cell_type": "code",
      "source": [
        "history = model.fit(x=train_generator, \n",
        "          batch_size=32, \n",
        "          epochs=10, \n",
        "          validation_data=valid_generator,\n",
        "          steps_per_epoch=train_generator.n//train_generator.batch_size,)"
      ],
      "metadata": {
        "colab": {
          "base_uri": "https://localhost:8080/"
        },
        "id": "eY2_pR7-uUOB",
        "outputId": "3fb16cab-9f6c-411b-e7aa-b79c08069e67"
      },
      "execution_count": 117,
      "outputs": [
        {
          "output_type": "stream",
          "name": "stdout",
          "text": [
            "Epoch 1/10\n",
            "33/33 [==============================] - 7s 210ms/step - loss: 0.2826 - Accuracy: 0.8881 - val_loss: 1.4987 - val_Accuracy: 0.5796\n",
            "Epoch 2/10\n",
            "33/33 [==============================] - 7s 224ms/step - loss: 0.2615 - Accuracy: 0.8967 - val_loss: 1.1932 - val_Accuracy: 0.6119\n",
            "Epoch 3/10\n",
            "33/33 [==============================] - 8s 247ms/step - loss: 0.2424 - Accuracy: 0.8977 - val_loss: 1.1296 - val_Accuracy: 0.6393\n",
            "Epoch 4/10\n",
            "33/33 [==============================] - 8s 254ms/step - loss: 0.2406 - Accuracy: 0.9073 - val_loss: 1.1185 - val_Accuracy: 0.6493\n",
            "Epoch 5/10\n",
            "33/33 [==============================] - 9s 262ms/step - loss: 0.2468 - Accuracy: 0.9006 - val_loss: 0.9644 - val_Accuracy: 0.6343\n",
            "Epoch 6/10\n",
            "33/33 [==============================] - 8s 231ms/step - loss: 0.2195 - Accuracy: 0.9207 - val_loss: 1.2104 - val_Accuracy: 0.6194\n",
            "Epoch 7/10\n",
            "33/33 [==============================] - 8s 235ms/step - loss: 0.2318 - Accuracy: 0.9092 - val_loss: 1.0976 - val_Accuracy: 0.6517\n",
            "Epoch 8/10\n",
            "33/33 [==============================] - 8s 253ms/step - loss: 0.2694 - Accuracy: 0.8843 - val_loss: 1.2867 - val_Accuracy: 0.5995\n",
            "Epoch 9/10\n",
            "33/33 [==============================] - 8s 237ms/step - loss: 0.2231 - Accuracy: 0.9063 - val_loss: 1.0503 - val_Accuracy: 0.6517\n",
            "Epoch 10/10\n",
            "33/33 [==============================] - 8s 239ms/step - loss: 0.2385 - Accuracy: 0.9092 - val_loss: 0.9450 - val_Accuracy: 0.6542\n"
          ]
        }
      ]
    },
    {
      "cell_type": "code",
      "source": [
        "def plot_graphs(history,string):\n",
        "  plt.plot(history.history[string], 'b-x', linewidth=3)\n",
        "  plt.plot(history.history['val_'+string], 'r-o', linewidth=3)\n",
        "  plt.xlabel('epochs')\n",
        "  plt.ylabel(string)\n",
        "  plt.legend([string,'val_'+string])\n",
        "  plt.show()"
      ],
      "metadata": {
        "id": "uTEZ9WL56vkP"
      },
      "execution_count": 118,
      "outputs": []
    },
    {
      "cell_type": "code",
      "source": [
        "plot_graphs(history,'Accuracy')\n",
        "plot_graphs(history,'loss')"
      ],
      "metadata": {
        "colab": {
          "base_uri": "https://localhost:8080/",
          "height": 541
        },
        "id": "vUKa9AQh7eUh",
        "outputId": "24d0b2eb-e25a-4c58-f639-217cd4d10b1e"
      },
      "execution_count": 121,
      "outputs": [
        {
          "output_type": "display_data",
          "data": {
            "text/plain": [
              "<Figure size 432x288 with 1 Axes>"
            ],
            "image/png": "[encoded data removed]"
          },
          "metadata": {
            "needs_background": "light"
          }
        },
        {
          "output_type": "display_data",
          "data": {
            "text/plain": [
              "<Figure size 432x288 with 1 Axes>"
            ],
            "image/png": "[encoded data removed]"
          },
          "metadata": {
            "needs_background": "light"
          }
        }
      ]
    },
    {
      "cell_type": "code",
      "source": [
        "import os"
      ],
      "metadata": {
        "id": "FukmUkZD7xU9"
      },
      "execution_count": 122,
      "outputs": []
    },
    {
      "cell_type": "code",
      "source": [
        "test_filenames = os.listdir(r\"/content/drive/MyDrive/test_BC\")\n",
        "test_df = pd.DataFrame({\n",
        "    \"Filename\" : test_filenames\n",
        "})"
      ],
      "metadata": {
        "id": "LYocrnQk71iO"
      },
      "execution_count": 123,
      "outputs": []
    },
    {
      "cell_type": "code",
      "source": [
        "total_test = len(test_df)\n",
        "print('Total Number of images:',total_test)"
      ],
      "metadata": {
        "colab": {
          "base_uri": "https://localhost:8080/"
        },
        "id": "WdXYvtKC9NSf",
        "outputId": "85f34126-4c42-44c5-a6b9-c7e41f43504d"
      },
      "execution_count": 124,
      "outputs": [
        {
          "output_type": "stream",
          "name": "stdout",
          "text": [
            "Total Number of images: 43\n"
          ]
        }
      ]
    },
    {
      "cell_type": "code",
      "source": [
        "test1_datagen = ImageDataGenerator(rescale=1/255)"
      ],
      "metadata": {
        "id": "sdFGg8tb9jpq"
      },
      "execution_count": 125,
      "outputs": []
    },
    {
      "cell_type": "code",
      "source": [
        "test1_generator = test1_datagen.flow_from_dataframe(test_df,r\"/content/drive/MyDrive/test_BC\",\n",
        "                                                    x_col='Filename',\n",
        "                                                    class_mode=None,\n",
        "                                                    target_size=(32,32),\n",
        "                                                    batch_size=10)"
      ],
      "metadata": {
        "colab": {
          "base_uri": "https://localhost:8080/"
        },
        "id": "4iuz8Q8-9q-x",
        "outputId": "fa58ea14-24a7-4260-aaf5-b1c4d59f3640"
      },
      "execution_count": 126,
      "outputs": [
        {
          "output_type": "stream",
          "name": "stdout",
          "text": [
            "Found 43 validated image filenames.\n"
          ]
        }
      ]
    },
    {
      "cell_type": "code",
      "source": [
        "batch_size=10"
      ],
      "metadata": {
        "id": "4XBa7fb--wYM"
      },
      "execution_count": 128,
      "outputs": []
    },
    {
      "cell_type": "code",
      "source": [
        "predict = model.predict(test1_generator,steps=np.ceil(total_test/batch_size\n",
        "                        ))\n",
        "print(\"Number of predicted images:\", len(predict), \"\\n\")\n",
        "print(predict)"
      ],
      "metadata": {
        "colab": {
          "base_uri": "https://localhost:8080/"
        },
        "id": "dNjiTiby-Gwl",
        "outputId": "83a80270-34b4-4053-a0e0-5889acb66bcd"
      },
      "execution_count": 130,
      "outputs": [
        {
          "output_type": "stream",
          "name": "stdout",
          "text": [
            "Number of predicted images: 43 \n",
            "\n",
            "[[0.92539024]\n",
            " [0.6351021 ]\n",
            " [0.8549324 ]\n",
            " [0.0998857 ]\n",
            " [0.8256216 ]\n",
            " [0.1176706 ]\n",
            " [0.5157929 ]\n",
            " [0.09742388]\n",
            " [0.03442535]\n",
            " [0.05085191]\n",
            " [0.45539802]\n",
            " [0.03381088]\n",
            " [0.29346448]\n",
            " [0.05081034]\n",
            " [0.28580981]\n",
            " [0.8216797 ]\n",
            " [0.8447989 ]\n",
            " [0.03520095]\n",
            " [0.6771925 ]\n",
            " [0.3086623 ]\n",
            " [0.04051867]\n",
            " [0.64898705]\n",
            " [0.03812647]\n",
            " [0.03406304]\n",
            " [0.04056397]\n",
            " [0.03935954]\n",
            " [0.04111332]\n",
            " [0.29505864]\n",
            " [0.02829906]\n",
            " [0.0380429 ]\n",
            " [0.03505579]\n",
            " [0.03023186]\n",
            " [0.03212193]\n",
            " [0.03597572]\n",
            " [0.04380688]\n",
            " [0.2858296 ]\n",
            " [0.08703485]\n",
            " [0.27506208]\n",
            " [0.84527874]\n",
            " [0.04752484]\n",
            " [0.1626553 ]\n",
            " [0.34878165]\n",
            " [0.04884639]]\n"
          ]
        }
      ]
    },
    {
      "cell_type": "code",
      "source": [
        "test_df['category']=np.argmax(predict,axis=1)\n",
        "print(test_df['category'][0:10])"
      ],
      "metadata": {
        "colab": {
          "base_uri": "https://localhost:8080/"
        },
        "id": "2NPn9VMt_DUB",
        "outputId": "edf51e48-7695-4337-e870-4fff5369e040"
      },
      "execution_count": 148,
      "outputs": [
        {
          "output_type": "stream",
          "name": "stdout",
          "text": [
            "0    0\n",
            "1    0\n",
            "2    0\n",
            "3    0\n",
            "4    0\n",
            "5    0\n",
            "6    0\n",
            "7    0\n",
            "8    0\n",
            "9    0\n",
            "Name: category, dtype: int64\n"
          ]
        }
      ]
    },
    {
      "cell_type": "code",
      "source": [
        "from tensorflow.keras.utils import load_img"
      ],
      "metadata": {
        "id": "rTRfwl6DAbCd"
      },
      "execution_count": 149,
      "outputs": []
    }
  ]
}